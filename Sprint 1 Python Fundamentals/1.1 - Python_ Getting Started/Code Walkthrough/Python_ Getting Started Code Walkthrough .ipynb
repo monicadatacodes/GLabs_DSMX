{
 "cells": [
  {
   "cell_type": "markdown",
   "metadata": {},
   "source": [
    "# IPL Dataset Analysis\n",
    "\n",
    "## Problem Statement\n",
    "We want to know as to what happens during an IPL match which raises several questions in our mind with our limited knowledge about the game called cricket on which it is based. This analysis is done to know as which factors led one of the team to win and how does it matter."
   ]
  },
  {
   "cell_type": "markdown",
   "metadata": {},
   "source": [
    "## About the Dataset :\n",
    "The Indian Premier League (IPL) is a professional T20 cricket league in India contested during April-May of every year by teams representing Indian cities. It is the most-attended cricket league in the world and ranks sixth among all the sports leagues. It has teams with players from around the world and is very competitive and entertaining with a lot of close matches between teams.\n",
    "\n",
    "The IPL and other cricket related datasets are available at [cricsheet.org](https://cricsheet.org/%c2%a0(data). Feel free to visit the website and explore the data by yourself as exploring new sources of data is one of the interesting activities a data scientist gets to do."
   ]
  },
  {
   "cell_type": "markdown",
   "metadata": {},
   "source": [
    "### Analysing data with basic python operation"
   ]
  },
  {
   "cell_type": "markdown",
   "metadata": {},
   "source": [
    "## Read the data of the format .yaml type"
   ]
  },
  {
   "cell_type": "code",
   "execution_count": 3,
   "metadata": {},
   "outputs": [],
   "source": [
    "import yaml"
   ]
  },
  {
   "cell_type": "code",
   "execution_count": 8,
   "metadata": {},
   "outputs": [
    {
     "name": "stderr",
     "output_type": "stream",
     "text": [
      "C:\\Users\\Dell\\miniconda3\\lib\\site-packages\\ipykernel_launcher.py:3: YAMLLoadWarning: calling yaml.load() without Loader=... is deprecated, as the default Loader is unsafe. Please read https://msg.pyyaml.org/load for full details.\n",
      "  This is separate from the ipykernel package so we can avoid doing imports until\n"
     ]
    },
    {
     "name": "stdout",
     "output_type": "stream",
     "text": [
      "<class 'dict'>\n"
     ]
    }
   ],
   "source": [
    "# using with open command to read the file\n",
    "with open('./data/ipl_match.yaml') as f1:\n",
    "    data = yaml.load(f1)\n",
    "    print(type(data))"
   ]
  },
  {
   "cell_type": "code",
   "execution_count": 17,
   "metadata": {},
   "outputs": [
    {
     "data": {
      "text/plain": [
       "{'city': 'Bangalore',\n",
       " 'competition': 'IPL',\n",
       " 'dates': [datetime.date(2008, 4, 18)],\n",
       " 'gender': 'male',\n",
       " 'match_type': 'T20',\n",
       " 'outcome': {'by': {'runs': 140}, 'winner': 'Kolkata Knight Riders'},\n",
       " 'overs': 20,\n",
       " 'player_of_match': ['BB McCullum'],\n",
       " 'teams': ['Royal Challengers Bangalore', 'Kolkata Knight Riders'],\n",
       " 'toss': {'decision': 'field', 'winner': 'Royal Challengers Bangalore'},\n",
       " 'umpires': ['Asad Rauf', 'RE Koertzen'],\n",
       " 'venue': 'M Chinnaswamy Stadium'}"
      ]
     },
     "execution_count": 17,
     "metadata": {},
     "output_type": "execute_result"
    }
   ],
   "source": [
    "# print data\n",
    "data.get('info')\n",
    "\n"
   ]
  },
  {
   "cell_type": "markdown",
   "metadata": {},
   "source": [
    "Now let's find answers to some prilminary questions such as "
   ]
  },
  {
   "cell_type": "markdown",
   "metadata": {},
   "source": [
    "### Can you guess the data type with which your working on ?"
   ]
  },
  {
   "cell_type": "code",
   "execution_count": 19,
   "metadata": {},
   "outputs": [
    {
     "name": "stdout",
     "output_type": "stream",
     "text": [
      "<class 'dict'>\n"
     ]
    }
   ],
   "source": [
    "type_of_data = type(data)\n",
    "print(type_of_data)"
   ]
  },
  {
   "cell_type": "markdown",
   "metadata": {},
   "source": [
    "### In which city the match was played and where was it played ?"
   ]
  },
  {
   "cell_type": "code",
   "execution_count": 23,
   "metadata": {},
   "outputs": [
    {
     "data": {
      "text/plain": [
       "'Bangalore'"
      ]
     },
     "execution_count": 23,
     "metadata": {},
     "output_type": "execute_result"
    }
   ],
   "source": [
    "data.get('info').get('city')\n"
   ]
  },
  {
   "cell_type": "code",
   "execution_count": 24,
   "metadata": {},
   "outputs": [
    {
     "data": {
      "text/plain": [
       "'M Chinnaswamy Stadium'"
      ]
     },
     "execution_count": 24,
     "metadata": {},
     "output_type": "execute_result"
    }
   ],
   "source": [
    "data.get('info').get('venue')"
   ]
  },
  {
   "cell_type": "markdown",
   "metadata": {},
   "source": [
    "### Which are all the teams that played in the tournament ? How many teams participated  in total?"
   ]
  },
  {
   "cell_type": "code",
   "execution_count": 37,
   "metadata": {},
   "outputs": [
    {
     "name": "stdout",
     "output_type": "stream",
     "text": [
      "Teams participated: Royal Challengers Bangalore and Kolkata Knight Riders\n",
      "Total 2 teams particpated\n"
     ]
    }
   ],
   "source": [
    "\n",
    "teams = data['info']['teams']\n",
    "print('Teams participated:', teams[0] + ' and ' + teams[1])\n",
    "print('Total ' + str(len(teams)) + ' teams particpated')"
   ]
  },
  {
   "cell_type": "markdown",
   "metadata": {},
   "source": [
    "### Which team won the toss and what was the decision of toss winner ?"
   ]
  },
  {
   "cell_type": "code",
   "execution_count": 41,
   "metadata": {},
   "outputs": [
    {
     "name": "stdout",
     "output_type": "stream",
     "text": [
      "The decision of the toss winner Royal Challengers Bangalore was to field\n"
     ]
    }
   ],
   "source": [
    "toss_dec = data['info']['toss']['decision']\n",
    "toss_winner = data['info']['toss']['winner']\n",
    "print('The decision of the toss winner '+ toss_winner +' was to',toss_dec)\n"
   ]
  },
  {
   "cell_type": "markdown",
   "metadata": {},
   "source": [
    "### Find the first bowler who played the first ball of the first inning. Also the first batsman who faced first delivery ?"
   ]
  },
  {
   "cell_type": "code",
   "execution_count": 46,
   "metadata": {},
   "outputs": [
    {
     "name": "stdout",
     "output_type": "stream",
     "text": [
      "The first bowler was P Kumar to SC Ganguly\n"
     ]
    }
   ],
   "source": [
    "first_bowler= data['innings'][0]['1st innings']['deliveries'][0][0.1]['bowler']\n",
    "first_batsman = data['innings'][0]['1st innings']['deliveries'][0][0.1]['batsman']\n",
    "print('The first bowler was ' + first_bowler + ' to ' + first_batsman)"
   ]
  },
  {
   "cell_type": "markdown",
   "metadata": {},
   "source": [
    "### How many deliveries were delivered in first inning ?"
   ]
  },
  {
   "cell_type": "code",
   "execution_count": 48,
   "metadata": {},
   "outputs": [
    {
     "name": "stdout",
     "output_type": "stream",
     "text": [
      "total_deliveries in 1st innings 124\n"
     ]
    }
   ],
   "source": [
    "## Does this come out to be more than 120 if yes then why ?\n",
    "total_del_1st = len(data['innings'][0]['1st innings']['deliveries'])\n",
    "print('total_deliveries in 1st innings',total_del_1st)"
   ]
  },
  {
   "cell_type": "markdown",
   "metadata": {},
   "source": [
    "### How many deliveries were delivered in second inning ?"
   ]
  },
  {
   "cell_type": "code",
   "execution_count": 50,
   "metadata": {},
   "outputs": [
    {
     "name": "stdout",
     "output_type": "stream",
     "text": [
      "total_deliveries in 2nd innings 101\n"
     ]
    }
   ],
   "source": [
    "## Does this come out to be less or greater than 120 then what's your thought process behind it ?\n",
    "'''Note : student can be advised that we can gather information of \n",
    "team 2 winning by runs as the deliveries delivered were less.'''\n",
    "\n",
    "total_del_2nd = len(data['innings'][1]['2nd innings']['deliveries'])\n",
    "print('total_deliveries in 2nd innings',total_del_2nd)\n",
    "\n"
   ]
  },
  {
   "cell_type": "markdown",
   "metadata": {},
   "source": [
    "### Which team won and how ?\n"
   ]
  },
  {
   "cell_type": "code",
   "execution_count": 64,
   "metadata": {},
   "outputs": [
    {
     "name": "stdout",
     "output_type": "stream",
     "text": [
      "Kolkata Knight Riders won by 140 runs\n"
     ]
    }
   ],
   "source": [
    "## see if the guess of the students is right did they infer it correctly\n",
    "winner_1 = data['info']['outcome']['winner']\n",
    "by = data['info']['outcome']['by']['runs']\n",
    "print(winner_1 + ' won by ' + str(by) + ' runs')\n"
   ]
  },
  {
   "cell_type": "code",
   "execution_count": null,
   "metadata": {},
   "outputs": [],
   "source": []
  }
 ],
 "metadata": {
  "kernelspec": {
   "display_name": "Python 3",
   "language": "python",
   "name": "python3"
  },
  "language_info": {
   "codemirror_mode": {
    "name": "ipython",
    "version": 3
   },
   "file_extension": ".py",
   "mimetype": "text/x-python",
   "name": "python",
   "nbconvert_exporter": "python",
   "pygments_lexer": "ipython3",
   "version": "3.7.6"
  }
 },
 "nbformat": 4,
 "nbformat_minor": 2
}
